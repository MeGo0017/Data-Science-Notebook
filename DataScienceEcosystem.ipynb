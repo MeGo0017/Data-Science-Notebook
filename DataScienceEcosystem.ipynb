{
  "metadata": {
    "kernelspec": {
      "name": "python",
      "display_name": "Python (Pyodide)",
      "language": "python"
    },
    "language_info": {
      "codemirror_mode": {
        "name": "python",
        "version": 3
      },
      "file_extension": ".py",
      "mimetype": "text/x-python",
      "name": "python",
      "nbconvert_exporter": "python",
      "pygments_lexer": "ipython3",
      "version": "3.8"
    }
  },
  "nbformat_minor": 4,
  "nbformat": 4,
  "cells": [
    {
      "cell_type": "markdown",
      "source": "# Data Science Tools and Ecosystem",
      "metadata": {}
    },
    {
      "cell_type": "markdown",
      "source": "In this notebook, Data Science Tools and Ecosystem are summarized.",
      "metadata": {}
    },
    {
      "cell_type": "markdown",
      "source": "**Objectives:**\n\n- List popular languages for Data Science.\n- Identify commonly used libraries for Data Science.\n- Understand Data Science tools and environments.\n- Learn how to use Markdown in Jupyter Notebook.\n- Perform basic arithmetic operations in Python.\n",
      "metadata": {}
    },
    {
      "cell_type": "markdown",
      "source": "Some of the popular languages that Data Scientists use are:\n* Python\n* R\n* SQL (Structured Query Language)\n* Julia\n* Scala",
      "metadata": {}
    },
    {
      "cell_type": "markdown",
      "source": "Some of the commonly used libraries used by Data Scientists include:\n* Pandas\n* NumPy\n* Matplotlib\n* Seaborn\n* scikit-learn\n* TensorFlow\n* PyTorch\n* Keras\n* SciPy",
      "metadata": {}
    },
    {
      "cell_type": "markdown",
      "source": "<div align=\"left\">\n\n| Data Science Tools       |\n|:--------------------------|\n| Jupyter Notebook          |\n| RStudio                   |\n| Visual Studio Code        |\n\n</div>\n",
      "metadata": {}
    },
    {
      "cell_type": "markdown",
      "source": "### Below are a few examples of evaluating arithmetic expressions in Python.\n",
      "metadata": {}
    }
  ]
}